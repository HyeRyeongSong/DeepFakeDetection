{
 "cells": [
  {
   "cell_type": "code",
   "execution_count": null,
   "metadata": {},
   "outputs": [
    {
     "name": "stdout",
     "output_type": "stream",
     "text": [
      "Epoch 0:   0% 0/2500 [00:04<?, ?it/s, lr=0.01, epoch=0, loss=0.655, fake_loss=0.834, real_loss=0.476]/opt/conda/lib/python3.7/site-packages/torch/optim/lr_scheduler.py:113: UserWarning: Seems like `optimizer.step()` has been overridden after learning rate scheduler initialization. Please, make sure to call `optimizer.step()` before `lr_scheduler.step()`. See more details at https://pytorch.org/docs/stable/optim.html#how-to-adjust-learning-rate\n",
      "  \"https://pytorch.org/docs/stable/optim.html#how-to-adjust-learning-rate\", UserWarning)\n",
      "Epoch 0:   0% 1/2500 [00:11<7:50:03, 11.29s/it, lr=0.01, epoch=0, loss=0.655, fake_loss=0.834, real_loss=0.476]/opt/conda/lib/python3.7/site-packages/torch/optim/lr_scheduler.py:113: UserWarning: Seems like `optimizer.step()` has been overridden after learning rate scheduler initialization. Please, make sure to call `optimizer.step()` before `lr_scheduler.step()`. See more details at https://pytorch.org/docs/stable/optim.html#how-to-adjust-learning-rate\n",
      "  \"https://pytorch.org/docs/stable/optim.html#how-to-adjust-learning-rate\", UserWarning)\n",
      "Epoch 0: 100% 2499/2500 [1:27:06<00:02,  2.09s/it, lr=0.00978, epoch=0, loss=0.51, fake_loss=0.513, real_loss=0.507] \n",
      "Epoch 0: 100% 2499/2500 [1:27:06<00:02,  2.09s/it, lr=0.00978, epoch=0, loss=0.51, fake_loss=0.508, real_loss=0.511]\n",
      " 26%|██████████▎                             | 781/3040 [04:42<12:31,  3.01it/s]"
     ]
    }
   ],
   "source": [
    "!python -u -m torch.distributed.launch --nproc_per_node=2 --master_port 9902 training/pipelines/train_classifier.py \\\n",
    " --distributed --config configs/resnest_200.json --freeze-epochs 0 --test_every 1 --opt-level O1 --label-smoothing 0.01 --folds-csv folds.csv  --fold 0 --seed 888 --data-dir ../dfdc_train_all/dfdc_train --prefix b7_888_ > logs/b7_888\n"
   ]
  },
  {
   "cell_type": "code",
   "execution_count": null,
   "metadata": {},
   "outputs": [],
   "source": [
    "!python -u -m torch.distributed.launch --nproc_per_node=2 --master_port 9902 training/pipelines/train_classifier.py \\\n",
    " --distributed --config configs/resnest_269.json --freeze-epochs 0 --test_every 1 --opt-level O1 --label-smoothing 0.01 --folds-csv folds.csv  --fold 0 --seed 999 --data-dir ../dfdc_train_all/dfdc_train --prefix b7_999_ > logs/b7_999\n"
   ]
  },
  {
   "cell_type": "code",
   "execution_count": null,
   "metadata": {},
   "outputs": [],
   "source": []
  }
 ],
 "metadata": {
  "kernelspec": {
   "display_name": "Python 3",
   "language": "python",
   "name": "python3"
  },
  "language_info": {
   "codemirror_mode": {
    "name": "ipython",
    "version": 3
   },
   "file_extension": ".py",
   "mimetype": "text/x-python",
   "name": "python",
   "nbconvert_exporter": "python",
   "pygments_lexer": "ipython3",
   "version": "3.7.0"
  }
 },
 "nbformat": 4,
 "nbformat_minor": 4
}
