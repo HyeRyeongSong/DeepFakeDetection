{
 "cells": [
  {
   "cell_type": "code",
   "execution_count": 91,
   "metadata": {},
   "outputs": [
    {
     "name": "stdout",
     "output_type": "stream",
     "text": [
      "Combined Finished : output.json\n"
     ]
    }
   ],
   "source": [
    "!python combine_json.py"
   ]
  },
  {
   "cell_type": "code",
   "execution_count": 92,
   "metadata": {},
   "outputs": [
    {
     "name": "stdout",
     "output_type": "stream",
     "text": [
      "Accuracy \t 0.9136579060749677\n",
      "Precision\t 0.9348384855852727\n",
      "Recall\t\t 0.9597061760091286\n",
      "F1 Score\t 0.9471091248196503\n",
      "Fall-out\t 0.27706394919509675\n"
     ]
    }
   ],
   "source": [
    "!python eval.py"
   ]
  }
 ],
 "metadata": {
  "kernelspec": {
   "display_name": "Python 3",
   "language": "python",
   "name": "python3"
  },
  "language_info": {
   "codemirror_mode": {
    "name": "ipython",
    "version": 3
   },
   "file_extension": ".py",
   "mimetype": "text/x-python",
   "name": "python",
   "nbconvert_exporter": "python",
   "pygments_lexer": "ipython3",
   "version": "3.7.0"
  }
 },
 "nbformat": 4,
 "nbformat_minor": 4
}
