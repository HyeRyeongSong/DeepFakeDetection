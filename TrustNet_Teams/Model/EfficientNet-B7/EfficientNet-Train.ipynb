{
 "cells": [
  {
   "cell_type": "code",
   "execution_count": null,
   "metadata": {},
   "outputs": [
    {
     "name": "stdout",
     "output_type": "stream",
     "text": [
      "Epoch 0:   0% 0/2500 [00:03<?, ?it/s, lr=0.01, epoch=0, loss=0.698, fake_loss=0.671, real_loss=0.726]/opt/conda/lib/python3.7/site-packages/torch/optim/lr_scheduler.py:113: UserWarning: Seems like `optimizer.step()` has been overridden after learning rate scheduler initialization. Please, make sure to call `optimizer.step()` before `lr_scheduler.step()`. See more details at https://pytorch.org/docs/stable/optim.html#how-to-adjust-learning-rate\n",
      "  \"https://pytorch.org/docs/stable/optim.html#how-to-adjust-learning-rate\", UserWarning)\n",
      "/opt/conda/lib/python3.7/site-packages/torch/optim/lr_scheduler.py:113: UserWarning: Seems like `optimizer.step()` has been overridden after learning rate scheduler initialization. Please, make sure to call `optimizer.step()` before `lr_scheduler.step()`. See more details at https://pytorch.org/docs/stable/optim.html#how-to-adjust-learning-rate\n",
      "  \"https://pytorch.org/docs/stable/optim.html#how-to-adjust-learning-rate\", UserWarning)\n",
      "Epoch 0: 100% 2499/2500 [29:29<00:00,  1.41it/s, lr=0.00978, epoch=0, loss=0.523, fake_loss=0.526, real_loss=0.519]\n",
      "Epoch 0: 100% 2499/2500 [29:29<00:00,  1.41it/s, lr=0.00978, epoch=0, loss=0.521, fake_loss=0.522, real_loss=0.521]\n",
      "100%|███████████████████████████████████████| 3040/3040 [11:49<00:00,  4.29it/s]\n",
      "Epoch 1: 100% 2499/2500 [53:31<00:01,  1.29s/it, lr=0.00955, epoch=1, loss=0.357, fake_loss=0.368, real_loss=0.347]9]\n",
      "Epoch 1: 100% 2499/2500 [1:05:23<00:01,  1.57s/it, lr=0.00955, epoch=1, loss=0.353, fake_loss=0.357, real_loss=0.349]\n",
      "100%|███████████████████████████████████████| 3040/3040 [11:40<00:00,  4.34it/s]\n",
      "Epoch 2:   5% 134/2500 [05:17<1:56:16,  2.95s/it, lr=0.00954, epoch=2, loss=0.339, fake_loss=0.335, real_loss=0.342] "
     ]
    }
   ],
   "source": [
    "!python -u -m torch.distributed.launch --nproc_per_node=2 --master_port 9901 training/pipelines/train_classifier.py \\\n",
    " --distributed --config configs/b7.json --freeze-epochs 0 --test_every 1 --opt-level O1 --label-smoothing 0.01 --folds-csv folds.csv   --fold 0 --seed 111 --data-dir ../dfdc_train_all/dfdc_train --prefix b7_111_ > logs/b7_111\n"
   ]
  },
  {
   "cell_type": "code",
   "execution_count": null,
   "metadata": {},
   "outputs": [],
   "source": [
    "!python -u -m torch.distributed.launch --nproc_per_node=2 --master_port 9901 training/pipelines/train_classifier.py \\\n",
    " --distributed --config configs/b7.json --freeze-epochs 0 --test_every 1 --opt-level O1 --label-smoothing 0.01 --folds-csv folds.csv  --fold 0 --seed 555 --data-dir ../dfdc_train_all/dfdc_train --prefix b7_555_ > logs/b7_555\n"
   ]
  },
  {
   "cell_type": "code",
   "execution_count": null,
   "metadata": {},
   "outputs": [],
   "source": [
    "!python -u -m torch.distributed.launch --nproc_per_node=2 --master_port 9901 training/pipelines/train_classifier.py \\\n",
    " --distributed --config configs/b7.json --freeze-epochs 0 --test_every 1 --opt-level O1 --label-smoothing 0.01 --folds-csv folds.csv  --fold 0 --seed 777 --data-dir ../dfdc_train_all/dfdc_train --prefix b7_777_ > logs/b7_777\n"
   ]
  },
  {
   "cell_type": "code",
   "execution_count": null,
   "metadata": {},
   "outputs": [],
   "source": [
    "!python -u -m torch.distributed.launch --nproc_per_node=2 --master_port 9902 training/pipelines/train_classifier.py \\\n",
    " --distributed --config configs/b7.json --freeze-epochs 0 --test_every 1 --opt-level O1 --label-smoothing 0.01 --folds-csv folds.csv  --fold 0 --seed 888 --data-dir ../dfdc_train_all/dfdc_train --prefix b7_888_ > logs/b7_888\n"
   ]
  },
  {
   "cell_type": "code",
   "execution_count": null,
   "metadata": {},
   "outputs": [],
   "source": [
    "!python -u -m torch.distributed.launch --nproc_per_node=2 --master_port 9902 training/pipelines/train_classifier.py \\\n",
    " --distributed --config configs/b7.json --freeze-epochs 0 --test_every 1 --opt-level O1 --label-smoothing 0.01 --folds-csv folds.csv  --fold 0 --seed 999 --data-dir ../dfdc_train_all/dfdc_train --prefix b7_999_ > logs/b7_999\n"
   ]
  },
  {
   "cell_type": "code",
   "execution_count": null,
   "metadata": {},
   "outputs": [],
   "source": []
  }
 ],
 "metadata": {
  "kernelspec": {
   "display_name": "Python 3",
   "language": "python",
   "name": "python3"
  },
  "language_info": {
   "codemirror_mode": {
    "name": "ipython",
    "version": 3
   },
   "file_extension": ".py",
   "mimetype": "text/x-python",
   "name": "python",
   "nbconvert_exporter": "python",
   "pygments_lexer": "ipython3",
   "version": "3.7.0"
  }
 },
 "nbformat": 4,
 "nbformat_minor": 4
}
