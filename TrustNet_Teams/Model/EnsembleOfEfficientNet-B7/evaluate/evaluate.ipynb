{
 "cells": [
  {
   "cell_type": "code",
   "execution_count": 1,
   "metadata": {},
   "outputs": [
    {
     "name": "stdout",
     "output_type": "stream",
     "text": [
      "Sequential(224X192) with 0.8 0.2\n",
      "Accuracy \t 0.8700560103403705\n",
      "Precision\t 0.8940257033692254\n",
      "Recall\t\t 0.9458694693517565\n",
      "F1 Score\t 0.919217170815328\n",
      "Fall-out\t 0.4012889648822833\n",
      "Log-Loss\t 0.12540207255359498\n"
     ]
    }
   ],
   "source": [
    "print(\"Sequential(224X192) with 0.8 0.2\")\n",
    "!python eval.py --fake-threshold 0.8 --real-threshold 0.2 --result-path \"seq\" --answer-json \"output.json\""
   ]
  },
  {
   "cell_type": "code",
   "execution_count": 2,
   "metadata": {},
   "outputs": [
    {
     "name": "stdout",
     "output_type": "stream",
     "text": [
      "Sequential(380) with 0.8 0.2\n",
      "Accuracy \t 0.7741490736751401\n",
      "Precision\t 0.817540812782216\n",
      "Recall\t\t 0.9001797529353271\n",
      "F1 Score\t 0.8568724174964049\n",
      "Fall-out\t 0.6060221504383941\n",
      "Log-Loss\t 0.19696536036886259\n"
     ]
    }
   ],
   "source": [
    "print(\"Sequential(380) with 0.8 0.2\")\n",
    "!python eval.py --fake-threshold 0.8 --real-threshold 0.2 --result-path \"380\" --answer-json \"output.json\""
   ]
  },
  {
   "cell_type": "code",
   "execution_count": 3,
   "metadata": {},
   "outputs": [
    {
     "name": "stdout",
     "output_type": "stream",
     "text": [
      "Sequential(416) with 0.8 0.2\n",
      "Accuracy \t 0.7851500789889415\n",
      "Precision\t 0.8029871483153873\n",
      "Recall\t\t 0.9274652972799486\n",
      "F1 Score\t 0.8607491250279248\n",
      "Fall-out\t 0.5735665891394479\n",
      "Log-Loss\t 0.20224413996546112\n"
     ]
    }
   ],
   "source": [
    "print(\"Sequential(416) with 0.8 0.2\")\n",
    "!python eval.py --fake-threshold 0.8 --real-threshold 0.2 --result-path \"416\" --answer-json \"output.json\""
   ]
  },
  {
   "cell_type": "code",
   "execution_count": 4,
   "metadata": {},
   "outputs": [
    {
     "name": "stdout",
     "output_type": "stream",
     "text": [
      "Sequential(380v2) with 0.8 0.2\n",
      "Accuracy \t 0.7912681315524918\n",
      "Precision\t 0.8469260159777701\n",
      "Recall\t\t 0.8950189039386265\n",
      "F1 Score\t 0.8703085681651884\n",
      "Fall-out\t 0.5820126782884311\n",
      "Log-Loss\t 0.18119327508778194\n"
     ]
    }
   ],
   "source": [
    "print(\"Sequential(380v2) with 0.8 0.2\")\n",
    "!python eval.py --fake-threshold 0.8 --real-threshold 0.2 --result-path \"380v2\" --answer-json \"output.json\""
   ]
  },
  {
   "cell_type": "code",
   "execution_count": 5,
   "metadata": {},
   "outputs": [
    {
     "name": "stdout",
     "output_type": "stream",
     "text": [
      "Sequential(416v2) with 0.8 0.2\n",
      "Accuracy \t 0.7399971276748528\n",
      "Precision\t 0.7387287252518235\n",
      "Recall\t\t 0.9328888498991139\n",
      "F1 Score\t 0.8245328370938977\n",
      "Fall-out\t 0.625946575684447\n",
      "Log-Loss\t 0.22434334988614246\n"
     ]
    }
   ],
   "source": [
    "print(\"Sequential(416v2) with 0.8 0.2\")\n",
    "!python eval.py --fake-threshold 0.8 --real-threshold 0.2 --result-path \"416v2\" --answer-json \"output.json\""
   ]
  },
  {
   "cell_type": "code",
   "execution_count": null,
   "metadata": {},
   "outputs": [],
   "source": []
  }
 ],
 "metadata": {
  "kernelspec": {
   "display_name": "Environment (conda_pytorch_p36)",
   "language": "python",
   "name": "conda_pytorch_p36"
  },
  "language_info": {
   "codemirror_mode": {
    "name": "ipython",
    "version": 3
   },
   "file_extension": ".py",
   "mimetype": "text/x-python",
   "name": "python",
   "nbconvert_exporter": "python",
   "pygments_lexer": "ipython3",
   "version": "3.6.5"
  }
 },
 "nbformat": 4,
 "nbformat_minor": 2
}
