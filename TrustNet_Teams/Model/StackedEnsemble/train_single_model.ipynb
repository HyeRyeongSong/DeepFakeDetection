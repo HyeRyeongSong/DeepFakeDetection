{
 "cells": [
  {
   "cell_type": "code",
   "execution_count": null,
   "metadata": {
    "scrolled": true
   },
   "outputs": [],
   "source": [
    "import torch\n",
    "import torch.nn as nn\n",
    "import random\n",
    "import numpy as np\n",
    "import pandas as pd\n",
    "import matplotlib.pyplot as plt\n",
    "import tqdm\n",
    "import torch.nn as nn\n",
    "import torch.nn.functional as F\n",
    "from torch.nn import init\n",
    "\n",
    "from pipeline.metrics import accuracy_b\n",
    "from pipeline.model_methods import validate, train\n",
    "from pipeline.data_loaders import load_img_dataset, load_img_val_dataset\n",
    "\n",
    "from efficientnet_pytorch import EfficientNet\n",
    "\n",
    "import timm\n",
    "\n",
    "\n",
    "random.seed(0)\n",
    "np.random.seed(0)\n",
    "torch.manual_seed(0)\n",
    "torch.cuda.manual_seed(0)\n",
    "torch.backends.cudnn.deterministic = True\n",
    "device = torch.device('cuda:0' if torch.cuda.is_available() else 'cpu')"
   ]
  },
  {
   "cell_type": "code",
   "execution_count": null,
   "metadata": {
    "scrolled": true
   },
   "outputs": [],
   "source": [
    "temp_y_train = pd.read_json(\"../../dataset/FAKE/metadata.json\")\n",
    "\n",
    "y_train_label = list()\n",
    "y_train_original = list()\n",
    "for key in temp_y_train.keys():\n",
    "    temp_y_train[key][\"filename\"] = key\n",
    "\n",
    "    \n",
    "#len(y_train[y_train.label == \"FAKE\"]), len(y_train[y_train.label == \"REAL\"])\n",
    "# len(y_train[test])\n",
    "#y_train = pd.read_csv(r'data\\metadata.csv')\n",
    "# len(y_train[y_train.label == 1]), len(y_train[y_train.label == 0])"
   ]
  },
  {
   "cell_type": "code",
   "execution_count": null,
   "metadata": {},
   "outputs": [],
   "source": [
    "y_train"
   ]
  },
  {
   "cell_type": "code",
   "execution_count": null,
   "metadata": {},
   "outputs": [],
   "source": [
    "key=list(y_train.keys())[0]\n",
    "y_train[key][\"file\"] = key"
   ]
  },
  {
   "cell_type": "code",
   "execution_count": null,
   "metadata": {},
   "outputs": [],
   "source": [
    "for key in y_train.keys():\n",
    "    y_train[key][\"file\"] = key"
   ]
  },
  {
   "cell_type": "code",
   "execution_count": null,
   "metadata": {},
   "outputs": [],
   "source": []
  },
  {
   "cell_type": "code",
   "execution_count": null,
   "metadata": {
    "scrolled": true
   },
   "outputs": [],
   "source": [
    "batch_size = 32\n",
    "\n",
    "x_train = load_img_dataset(r'data\\train', batch_size, resize=None, crop=224, num_samples=100000)\n",
    "x_val = load_img_val_dataset(r'data\\img_val', batch_size)"
   ]
  },
  {
   "cell_type": "code",
   "execution_count": null,
   "metadata": {},
   "outputs": [],
   "source": [
    "model = EfficientNet.from_pretrained('efficientnet-b0', num_classes=1)\n",
    "\n",
    "#model = timm.create_model('tf_efficientnet_b1_ns', pretrained=True)\n",
    "#model.classifier = nn.Linear(model.classifier.in_features, 1)\n",
    "\n",
    "model = model.to(device)"
   ]
  },
  {
   "cell_type": "code",
   "execution_count": null,
   "metadata": {
    "scrolled": true
   },
   "outputs": [],
   "source": [
    "epochs = 10\n",
    "\n",
    "optimizer = torch.optim.Adam(model.parameters(), lr=0.0001, weight_decay=0.) \n",
    "scheduler = torch.optim.lr_scheduler.StepLR(optimizer, step_size=2, gamma=0.1)"
   ]
  },
  {
   "cell_type": "code",
   "execution_count": null,
   "metadata": {
    "scrolled": true
   },
   "outputs": [],
   "source": [
    "train(model, optimizer, scheduler, x_train, x_val, y_train, accuracy_b, device,\n",
    "             epochs=epochs,\n",
    "             batch_size=batch_size, \n",
    "             useScheduler=True,\n",
    "             checkpoint=0.35\n",
    "            )"
   ]
  }
 ],
 "metadata": {
  "kernelspec": {
   "display_name": "Python 3",
   "language": "python",
   "name": "python3"
  },
  "language_info": {
   "codemirror_mode": {
    "name": "ipython",
    "version": 3
   },
   "file_extension": ".py",
   "mimetype": "text/x-python",
   "name": "python",
   "nbconvert_exporter": "python",
   "pygments_lexer": "ipython3",
   "version": "3.7.0"
  }
 },
 "nbformat": 4,
 "nbformat_minor": 2
}
